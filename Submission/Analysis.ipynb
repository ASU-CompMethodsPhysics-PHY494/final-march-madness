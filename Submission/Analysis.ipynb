{
 "cells": [
  {
   "cell_type": "code",
   "execution_count": 1,
   "metadata": {
    "collapsed": true
   },
   "outputs": [],
   "source": [
    "import simulation as sim"
   ]
  },
  {
   "cell_type": "code",
   "execution_count": 3,
   "metadata": {
    "collapsed": false
   },
   "outputs": [
    {
     "name": "stdout",
     "output_type": "stream",
     "text": [
      "[[ 58.   0.   2.  11.  10.  13.  11.  19.  23.  13.  29.   3.  12.  16.\n",
      "   39.   1.]\n",
      " [ 36.   0.  16.   9.  11.  18.  23.   9.  11.  11.  29.  10.   9.   4.\n",
      "   34.   3.]\n",
      " [ 59.   0.   7.  16.  15.  17.  17.  11.   6.   9.  29.   8.  10.   9.\n",
      "   50.   1.]\n",
      " [ 26.   0.   6.   4.  12.  24.  11.  11.  15.  23.  16.   4.  27.   5.\n",
      "   58.   1.]]\n"
     ]
    },
    {
     "data": {
      "text/plain": [
       "(array([ 4.,  3.,  1.,  2.,  3.,  1.,  2.,  1.,  1.,  5.,  3.,  8.,  2.,\n",
       "         2.,  2.,  4.,  2.,  1.,  1.,  3.,  1.,  1.,  1.,  3.,  1.,  1.,\n",
       "         1.,  1.,  2.,  1.]),\n",
       " array([  0.,   1.,   2.,   3.,   4.,   5.,   6.,   7.,   8.,   9.,  10.,\n",
       "         11.,  12.,  13.,  15.,  16.,  17.,  18.,  19.,  23.,  24.,  26.,\n",
       "         27.,  29.,  34.,  36.,  39.,  50.,  58.,  59.]),\n",
       " array([[ 58.,   0.,   2.,  11.,  10.,  13.,  11.,  19.,  23.,  13.,  29.,\n",
       "           3.,  12.,  16.,  39.,   1.],\n",
       "        [ 36.,   0.,  16.,   9.,  11.,  18.,  23.,   9.,  11.,  11.,  29.,\n",
       "          10.,   9.,   4.,  34.,   3.],\n",
       "        [ 59.,   0.,   7.,  16.,  15.,  17.,  17.,  11.,   6.,   9.,  29.,\n",
       "           8.,  10.,   9.,  50.,   1.],\n",
       "        [ 26.,   0.,   6.,   4.,  12.,  24.,  11.,  11.,  15.,  23.,  16.,\n",
       "           4.,  27.,   5.,  58.,   1.]]),\n",
       " 0.4143809523809524)"
      ]
     },
     "execution_count": 3,
     "metadata": {},
     "output_type": "execute_result"
    }
   ],
   "source": [
    "sim.simulation(1000)"
   ]
  },
  {
   "cell_type": "code",
   "execution_count": null,
   "metadata": {
    "collapsed": true
   },
   "outputs": [],
   "source": []
  }
 ],
 "metadata": {
  "kernelspec": {
   "display_name": "Python 3",
   "language": "python",
   "name": "python3"
  },
  "language_info": {
   "codemirror_mode": {
    "name": "ipython",
    "version": 3
   },
   "file_extension": ".py",
   "mimetype": "text/x-python",
   "name": "python",
   "nbconvert_exporter": "python",
   "pygments_lexer": "ipython3",
   "version": "3.5.1"
  }
 },
 "nbformat": 4,
 "nbformat_minor": 0
}
