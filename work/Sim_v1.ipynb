{
 "cells": [
  {
   "cell_type": "code",
   "execution_count": 20,
   "metadata": {
    "collapsed": false
   },
   "outputs": [],
   "source": [
    "import numpy as np"
   ]
  },
  {
   "cell_type": "code",
   "execution_count": 21,
   "metadata": {
    "collapsed": true
   },
   "outputs": [],
   "source": [
    "#tuple array of South, West, East and Midwest Regionals respectively, listed in #1 - 16 seed order\n",
    "R1teams = ((\"Kansas\", \"Villanova\", \"Miami\", \"California\", \"Maryland\", \"Arizona\", \"Iowa\", \"Colorado\", \"Connecticut\", \"Temple\", \"Wichita State\", \"South Dakota State\", \"Hawaii\", \"Buffalo\", \"UNC Asheville\", \"Austin Peay\"),\n",
    "            (\"Oregon\", \"Oklahoma\", \"Texan A&M\", \"Duke\", \"Baylor\", \"Texas\", \"Oregon State\", \"Saint Joseph's\", \"Cincinnatti\", \"VCU\", \"Northern Iowa\", \"Yale\", \"UNC Wilmington\", \"Green Bay\", \"Cal State Bakersfield\", \"Holy Cross\"),\n",
    "            (\"North Carolina\", \"Xavier\", \"West Virginia\", \"Kentucky\", \"Indiana\", \"Notre Dame\", \"Wisconsin\", \"USC\", \"Providence\", \"Pittsburgh\", \"Michigan\", \"Chattanooga\", \"Stony Brook\", \"Stephen F Austin\", \"Weber State\", \"Florida Gulf Coast\"), \n",
    "            (\"Virginia\", \"Michigan State\", \"Utah\", \"Iowa State\", \"Purdue\", \"Seton Hall\", \"Dayton\", \"Texas Tech\", \"Butler\", \"Syracuse\", \"Gonzaga\", \"Ankansas-Little Rock\", \"Iona\", \"Fresno State\", \"Middle Tennessee\", \"Hampton\"))"
   ]
  },
  {
   "cell_type": "code",
   "execution_count": 22,
   "metadata": {
    "collapsed": false
   },
   "outputs": [
    {
     "data": {
      "text/plain": [
       "'Hampton'"
      ]
     },
     "execution_count": 22,
     "metadata": {},
     "output_type": "execute_result"
    }
   ],
   "source": [
    "R1teams[3][15]"
   ]
  },
  {
   "cell_type": "code",
   "execution_count": 23,
   "metadata": {
    "collapsed": false
   },
   "outputs": [],
   "source": [
    "# Blank 4x8 matrix for simulation to populate the Round 1 winners into \n",
    "# Can't later populate with strings...\n",
    "R2teams = np.zeros((4, 8))"
   ]
  },
  {
   "cell_type": "code",
   "execution_count": 24,
   "metadata": {
    "collapsed": false
   },
   "outputs": [
    {
     "data": {
      "text/plain": [
       "array([[ 0.,  0.,  0.,  0.,  0.,  0.,  0.,  0.],\n",
       "       [ 0.,  0.,  0.,  0.,  0.,  0.,  0.,  0.],\n",
       "       [ 0.,  0.,  0.,  0.,  0.,  0.,  0.,  0.],\n",
       "       [ 0.,  0.,  0.,  0.,  0.,  0.,  0.,  0.]])"
      ]
     },
     "execution_count": 24,
     "metadata": {},
     "output_type": "execute_result"
    }
   ],
   "source": [
    "R2teams"
   ]
  },
  {
   "cell_type": "code",
   "execution_count": 79,
   "metadata": {
    "collapsed": false
   },
   "outputs": [],
   "source": [
    "# Alternate method 1\n",
    "R2teams1=[[S1_1, S1_2, S1_3, S1_4, S1_5, S1_6, S1_7, S1_8],\n",
    "          [W1_1, W1_2, W1_3, W1_4, W1_5, W1_6, W1_7, W1_8],\n",
    "          [E1_1, E1_2, E1_3, E1_4, E1_5, E1_6, E1_7, E1_8],\n",
    "          [M1_1, M1_2, M1_3, M1_4, M1_5, M1_6, M1_7, M1_8]]"
   ]
  },
  {
   "cell_type": "code",
   "execution_count": 80,
   "metadata": {
    "collapsed": false
   },
   "outputs": [
    {
     "data": {
      "text/plain": [
       "[['Kansas',\n",
       "  'California',\n",
       "  'Maryland',\n",
       "  'Iowa',\n",
       "  'Connecticut',\n",
       "  'South Dakota State',\n",
       "  'Hawaii',\n",
       "  'UNC Asheville'],\n",
       " ['Oklahoma',\n",
       "  'Duke',\n",
       "  'Texas',\n",
       "  'Oregon State',\n",
       "  'Cincinnatti',\n",
       "  'Northern Iowa',\n",
       "  'UNC Wilmington',\n",
       "  'Cal State Bakersfield'],\n",
       " ['Xavier',\n",
       "  'Kentucky',\n",
       "  'Notre Dame',\n",
       "  'Wisconsin',\n",
       "  'Pittsburgh',\n",
       "  'Chattanooga',\n",
       "  'Stephen F Austin',\n",
       "  'Florida Gulf Coast'],\n",
       " ['Michigan State',\n",
       "  'Iowa State',\n",
       "  'Purdue',\n",
       "  'Texas Tech',\n",
       "  'Butler',\n",
       "  'Ankansas-Little Rock',\n",
       "  'Iona',\n",
       "  'Hampton']]"
      ]
     },
     "execution_count": 80,
     "metadata": {},
     "output_type": "execute_result"
    }
   ],
   "source": [
    "R2teams1"
   ]
  },
  {
   "cell_type": "code",
   "execution_count": null,
   "metadata": {
    "collapsed": true
   },
   "outputs": [],
   "source": [
    "# Alternative method 2\n",
    "R2teams2=[[\"\", \"\", \"\", \"\", \"\", \"\", \"\", \"\"],\n",
    "          [\"\", \"\", \"\", \"\", \"\", \"\", \"\", \"\"],\n",
    "          [\"\", \"\", \"\", \"\", \"\", \"\", \"\", \"\"],\n",
    "          [\"\", \"\", \"\", \"\", \"\", \"\", \"\", \"\"]]"
   ]
  },
  {
   "cell_type": "code",
   "execution_count": 67,
   "metadata": {
    "collapsed": false
   },
   "outputs": [
    {
     "data": {
      "text/plain": [
       "[['', '', '', '', '', '', '', ''],\n",
       " ['', '', '', '', '', '', '', ''],\n",
       " ['', '', '', '', '', '', '', ''],\n",
       " ['', '', '', '', '', '', '', '']]"
      ]
     },
     "execution_count": 67,
     "metadata": {},
     "output_type": "execute_result"
    }
   ],
   "source": [
    "R2teams2"
   ]
  },
  {
   "cell_type": "code",
   "execution_count": 25,
   "metadata": {
    "collapsed": true
   },
   "outputs": [],
   "source": [
    "#Random number generator for first round of games (8 games x 4 conferences)\n",
    "Rand1 = np.random.randint(100, size=(4, 8))"
   ]
  },
  {
   "cell_type": "code",
   "execution_count": 30,
   "metadata": {
    "collapsed": false
   },
   "outputs": [
    {
     "data": {
      "text/plain": [
       "array([[69, 44, 61, 81, 69, 49, 54, 52],\n",
       "       [28, 49,  2, 76, 52, 76, 76, 73],\n",
       "       [44,  9, 13, 79,  9, 26,  5,  8],\n",
       "       [19, 12, 68, 26, 99, 41, 73,  5]])"
      ]
     },
     "execution_count": 30,
     "metadata": {},
     "output_type": "execute_result"
    }
   ],
   "source": [
    "Rand1"
   ]
  },
  {
   "cell_type": "code",
   "execution_count": 63,
   "metadata": {
    "collapsed": false
   },
   "outputs": [
    {
     "ename": "NameError",
     "evalue": "name 'i' is not defined",
     "output_type": "error",
     "traceback": [
      "\u001b[1;31m---------------------------------------------------------------------------\u001b[0m",
      "\u001b[1;31mNameError\u001b[0m                                 Traceback (most recent call last)",
      "\u001b[1;32m<ipython-input-63-5243f5ee1949>\u001b[0m in \u001b[0;36m<module>\u001b[1;34m()\u001b[0m\n\u001b[1;32m----> 1\u001b[1;33m \u001b[1;32mfor\u001b[0m \u001b[0mi\u001b[0m \u001b[1;32min\u001b[0m \u001b[0mRand1\u001b[0m\u001b[1;33m[\u001b[0m\u001b[1;36m0\u001b[0m\u001b[1;33m]\u001b[0m\u001b[1;33m[\u001b[0m\u001b[0mi\u001b[0m\u001b[1;33m]\u001b[0m\u001b[1;33m:\u001b[0m\u001b[1;33m\u001b[0m\u001b[0m\n\u001b[0m\u001b[0;32m      2\u001b[0m     \u001b[1;32mif\u001b[0m \u001b[0mRand1\u001b[0m\u001b[1;33m[\u001b[0m\u001b[1;36m0\u001b[0m\u001b[1;33m]\u001b[0m\u001b[1;33m[\u001b[0m\u001b[0mi\u001b[0m\u001b[1;33m]\u001b[0m\u001b[1;33m>\u001b[0m\u001b[1;36m49\u001b[0m\u001b[1;33m:\u001b[0m\u001b[1;33m\u001b[0m\u001b[0m\n\u001b[0;32m      3\u001b[0m         \u001b[0mR2teams2\u001b[0m\u001b[1;33m[\u001b[0m\u001b[1;36m0\u001b[0m\u001b[1;33m]\u001b[0m\u001b[1;33m[\u001b[0m\u001b[0mi\u001b[0m\u001b[1;33m]\u001b[0m \u001b[1;33m=\u001b[0m \u001b[0mR1teams\u001b[0m\u001b[1;33m[\u001b[0m\u001b[1;36m0\u001b[0m\u001b[1;33m]\u001b[0m\u001b[1;33m[\u001b[0m\u001b[1;36m2\u001b[0m\u001b[1;33m*\u001b[0m\u001b[0mi\u001b[0m\u001b[1;33m]\u001b[0m\u001b[1;33m\u001b[0m\u001b[0m\n\u001b[0;32m      4\u001b[0m     \u001b[1;32melse\u001b[0m\u001b[1;33m:\u001b[0m\u001b[1;33m\u001b[0m\u001b[0m\n\u001b[0;32m      5\u001b[0m         \u001b[0mR2teams2\u001b[0m\u001b[1;33m[\u001b[0m\u001b[1;36m0\u001b[0m\u001b[1;33m]\u001b[0m\u001b[1;33m[\u001b[0m\u001b[0mi\u001b[0m\u001b[1;33m]\u001b[0m \u001b[1;33m=\u001b[0m \u001b[0mR1teams\u001b[0m\u001b[1;33m[\u001b[0m\u001b[1;36m0\u001b[0m\u001b[1;33m]\u001b[0m\u001b[1;33m[\u001b[0m\u001b[1;36m2\u001b[0m\u001b[1;33m*\u001b[0m\u001b[0mi\u001b[0m\u001b[1;33m+\u001b[0m\u001b[1;36m1\u001b[0m\u001b[1;33m]\u001b[0m\u001b[1;33m\u001b[0m\u001b[0m\n",
      "\u001b[1;31mNameError\u001b[0m: name 'i' is not defined"
     ]
    }
   ],
   "source": [
    "# Try and get this to work so that cell below can be avoided\n",
    "for i in Rand1[0][i]:\n",
    "    if Rand1[0][i] > 49:\n",
    "        R2teams2[0][i] = R1teams[0][2*i]\n",
    "    else:\n",
    "        R2teams2[0][i] = R1teams[0][2*i+1]\n"
   ]
  },
  {
   "cell_type": "code",
   "execution_count": 78,
   "metadata": {
    "collapsed": false
   },
   "outputs": [],
   "source": [
    "# Round 1 simulation \n",
    "\n",
    "if Rand1[0][0]>49:\n",
    "    S1_1 = R1teams[0][0]\n",
    "else:\n",
    "    S1_1 = R1teams[0][1]\n",
    "\n",
    "if Rand1[0][1]>49:\n",
    "    S1_2 = R1teams[0][2]\n",
    "else:\n",
    "    S1_2 = R1teams[0][3]    \n",
    "\n",
    "if Rand1[0][2]>49:\n",
    "    S1_3 = R1teams[0][4]\n",
    "else:\n",
    "    S1_3 = R1teams[0][5]\n",
    "    \n",
    "if Rand1[0][3]>49:\n",
    "    S1_4 = R1teams[0][6]\n",
    "else:\n",
    "    S1_4 = R1teams[0][7]    \n",
    "\n",
    "if Rand1[0][4]>49:\n",
    "    S1_5 = R1teams[0][8]\n",
    "else:\n",
    "    S1_5 = R1teams[0][9]    \n",
    "\n",
    "if Rand1[0][5]>49:\n",
    "    S1_6 = R1teams[0][10]\n",
    "else:\n",
    "    S1_6 = R1teams[0][11]    \n",
    "\n",
    "if Rand1[0][6]>49:\n",
    "    S1_7 = R1teams[0][12]\n",
    "else:\n",
    "    S1_7 = R1teams[0][13]    \n",
    "\n",
    "if Rand1[0][7]>49:\n",
    "    S1_8 = R1teams[0][14]\n",
    "else:\n",
    "    S1_8 = R1teams[0][15]    \n",
    "\n",
    "\n",
    "    \n",
    "if Rand1[1][0]>49:\n",
    "    W1_1 = R1teams[1][0]\n",
    "else:\n",
    "    W1_1 = R1teams[1][1]\n",
    "\n",
    "if Rand1[1][1]>49:\n",
    "    W1_2 = R1teams[1][2]\n",
    "else:\n",
    "    W1_2 = R1teams[1][3]    \n",
    "\n",
    "if Rand1[1][2]>49:\n",
    "    W1_3 = R1teams[1][4]\n",
    "else:\n",
    "    W1_3 = R1teams[1][5]\n",
    "    \n",
    "if Rand1[1][3]>49:\n",
    "    W1_4 = R1teams[1][6]\n",
    "else:\n",
    "    W1_4 = R1teams[1][7]    \n",
    "\n",
    "if Rand1[1][4]>49:\n",
    "    W1_5 = R1teams[1][8]\n",
    "else:\n",
    "    W1_5 = R1teams[1][9]    \n",
    "\n",
    "if Rand1[1][5]>49:\n",
    "    W1_6 = R1teams[1][10]\n",
    "else:\n",
    "    W1_6 = R1teams[1][11]    \n",
    "\n",
    "if Rand1[1][6]>49:\n",
    "    W1_7 = R1teams[1][12]\n",
    "else:\n",
    "    W1_7 = R1teams[1][13]    \n",
    "\n",
    "if Rand1[1][7]>49:\n",
    "    W1_8 = R1teams[1][14]\n",
    "else:\n",
    "    W1_8 = R1teams[1][15]    \n",
    "\n",
    "\n",
    "    \n",
    "if Rand1[2][0]>49:\n",
    "    E1_1 = R1teams[2][0]\n",
    "else:\n",
    "    E1_1 = R1teams[2][1]\n",
    "\n",
    "if Rand1[2][1]>49:\n",
    "    E1_2 = R1teams[2][2]\n",
    "else:\n",
    "    E1_2 = R1teams[2][3]    \n",
    "\n",
    "if Rand1[2][2]>49:\n",
    "    E1_3 = R1teams[2][4]\n",
    "else:\n",
    "    E1_3 = R1teams[2][5]\n",
    "    \n",
    "if Rand1[2][3]>49:\n",
    "    E1_4 = R1teams[2][6]\n",
    "else:\n",
    "    E1_4 = R1teams[2][7]    \n",
    "\n",
    "if Rand1[2][4]>49:\n",
    "    E1_5 = R1teams[2][8]\n",
    "else:\n",
    "    E1_5 = R1teams[2][9]    \n",
    "\n",
    "if Rand1[2][5]>49:\n",
    "    E1_6 = R1teams[2][10]\n",
    "else:\n",
    "    E1_6 = R1teams[2][11]    \n",
    "\n",
    "if Rand1[2][6]>49:\n",
    "    E1_7 = R1teams[2][12]\n",
    "else:\n",
    "    E1_7 = R1teams[2][13]    \n",
    "\n",
    "if Rand1[2][7]>49:\n",
    "    E1_8 = R1teams[2][14]\n",
    "else:\n",
    "    E1_8 = R1teams[2][15]    \n",
    "\n",
    "    \n",
    "\n",
    "if Rand1[3][0]>49:\n",
    "    M1_1 = R1teams[3][0]\n",
    "else:\n",
    "    M1_1 = R1teams[3][1]\n",
    "\n",
    "if Rand1[3][1]>49:\n",
    "    M1_2 = R1teams[3][2]\n",
    "else:\n",
    "    M1_2 = R1teams[3][3]    \n",
    "\n",
    "if Rand1[3][2]>49:\n",
    "    M1_3 = R1teams[3][4]\n",
    "else:\n",
    "    M1_3 = R1teams[3][5]\n",
    "    \n",
    "if Rand1[3][3]>49:\n",
    "    M1_4 = R1teams[3][6]\n",
    "else:\n",
    "    M1_4 = R1teams[3][7]    \n",
    "\n",
    "if Rand1[3][4]>49:\n",
    "    M1_5 = R1teams[3][8]\n",
    "else:\n",
    "    M1_5 = R1teams[3][9]    \n",
    "\n",
    "if Rand1[3][5]>49:\n",
    "    M1_6 = R1teams[3][10]\n",
    "else:\n",
    "    M1_6 = R1teams[3][11]    \n",
    "\n",
    "if Rand1[3][6]>49:\n",
    "    M1_7 = R1teams[3][12]\n",
    "else:\n",
    "    M1_7 = R1teams[3][13]    \n",
    "\n",
    "if Rand1[3][7]>49:\n",
    "    M1_8 = R1teams[3][14]\n",
    "else:\n",
    "    M1_8 = R1teams[3][15]    \n",
    "\n"
   ]
  },
  {
   "cell_type": "code",
   "execution_count": 81,
   "metadata": {
    "collapsed": false
   },
   "outputs": [
    {
     "data": {
      "text/plain": [
       "[['Kansas',\n",
       "  'California',\n",
       "  'Maryland',\n",
       "  'Iowa',\n",
       "  'Connecticut',\n",
       "  'South Dakota State',\n",
       "  'Hawaii',\n",
       "  'UNC Asheville'],\n",
       " ['Oklahoma',\n",
       "  'Duke',\n",
       "  'Texas',\n",
       "  'Oregon State',\n",
       "  'Cincinnatti',\n",
       "  'Northern Iowa',\n",
       "  'UNC Wilmington',\n",
       "  'Cal State Bakersfield'],\n",
       " ['Xavier',\n",
       "  'Kentucky',\n",
       "  'Notre Dame',\n",
       "  'Wisconsin',\n",
       "  'Pittsburgh',\n",
       "  'Chattanooga',\n",
       "  'Stephen F Austin',\n",
       "  'Florida Gulf Coast'],\n",
       " ['Michigan State',\n",
       "  'Iowa State',\n",
       "  'Purdue',\n",
       "  'Texas Tech',\n",
       "  'Butler',\n",
       "  'Ankansas-Little Rock',\n",
       "  'Iona',\n",
       "  'Hampton']]"
      ]
     },
     "execution_count": 81,
     "metadata": {},
     "output_type": "execute_result"
    }
   ],
   "source": [
    "R2teams1"
   ]
  },
  {
   "cell_type": "code",
   "execution_count": 89,
   "metadata": {
    "collapsed": false
   },
   "outputs": [],
   "source": [
    "R3teams=[[S2_1, S2_2, S2_3, S2_4],\n",
    "          [W2_1, W2_2, W2_3, W2_4],\n",
    "          [E2_1, E2_2, E2_3, E2_4],\n",
    "          [M2_1, M2_2, M2_3, M2_4]]"
   ]
  },
  {
   "cell_type": "code",
   "execution_count": 83,
   "metadata": {
    "collapsed": true
   },
   "outputs": [],
   "source": [
    "Rand2 = np.random.randint(100, size=(4, 4))"
   ]
  },
  {
   "cell_type": "code",
   "execution_count": 84,
   "metadata": {
    "collapsed": false
   },
   "outputs": [
    {
     "data": {
      "text/plain": [
       "array([[ 3, 31, 13, 96],\n",
       "       [19, 35, 25, 12],\n",
       "       [95, 26, 25, 76],\n",
       "       [48, 53, 33, 82]])"
      ]
     },
     "execution_count": 84,
     "metadata": {},
     "output_type": "execute_result"
    }
   ],
   "source": [
    "Rand2"
   ]
  },
  {
   "cell_type": "code",
   "execution_count": 87,
   "metadata": {
    "collapsed": false
   },
   "outputs": [],
   "source": [
    "# Round 2 simulation \n",
    "\n",
    "if Rand2[0][0]>49:\n",
    "    S2_1 = R2teams1[0][0]\n",
    "else:\n",
    "    S2_1 = R2teams1[0][1]\n",
    "\n",
    "if Rand2[0][1]>49:\n",
    "    S2_2 = R2teams1[0][2]\n",
    "else:\n",
    "    S2_2 = R2teams1[0][3]    \n",
    "\n",
    "if Rand2[0][2]>49:\n",
    "    S2_3 = R2teams1[0][4]\n",
    "else:\n",
    "    S2_3 = R2teams1[0][5]\n",
    "    \n",
    "if Rand2[0][3]>49:\n",
    "    S2_4 = R2teams1[0][6]\n",
    "else:\n",
    "    S2_4 = R2teams1[0][7]    \n",
    "\n",
    "\n",
    "    \n",
    "if Rand2[1][0]>49:\n",
    "    W2_1 = R2teams1[1][0]\n",
    "else:\n",
    "    W2_1 = R2teams1[1][1]\n",
    "\n",
    "if Rand2[1][1]>49:\n",
    "    W2_2 = R2teams1[1][2]\n",
    "else:\n",
    "    W2_2 = R2teams1[1][3]    \n",
    "\n",
    "if Rand2[1][2]>49:\n",
    "    W2_3 = R2teams1[1][4]\n",
    "else:\n",
    "    W2_3 = R2teams1[1][5]\n",
    "    \n",
    "if Rand2[1][3]>49:\n",
    "    W2_4 = R2teams1[1][6]\n",
    "else:\n",
    "    W2_4 = R2teams1[1][7]    \n",
    "\n",
    "\n",
    "    \n",
    "if Rand2[2][0]>49:\n",
    "    E2_1 = R2teams1[2][0]\n",
    "else:\n",
    "    E2_1 = R2teams1[2][1]\n",
    "\n",
    "if Rand2[2][1]>49:\n",
    "    E2_2 = R2teams1[2][2]\n",
    "else:\n",
    "    E2_2 = R2teams1[2][3]    \n",
    "\n",
    "if Rand2[2][2]>49:\n",
    "    E2_3 = R2teams1[2][4]\n",
    "else:\n",
    "    E2_3 = R2teams1[2][5]\n",
    "    \n",
    "if Rand2[2][3]>49:\n",
    "    E2_4 = R2teams1[2][6]\n",
    "else:\n",
    "    E2_4 = R2teams1[2][7]    \n",
    "\n",
    "    \n",
    "\n",
    "if Rand2[3][0]>49:\n",
    "    M2_1 = R2teams1[3][0]\n",
    "else:\n",
    "    M2_1 = R2teams1[3][1]\n",
    "\n",
    "if Rand2[3][1]>49:\n",
    "    M2_2 = R2teams1[3][2]\n",
    "else:\n",
    "    M2_2 = R2teams1[3][3]    \n",
    "\n",
    "if Rand2[3][2]>49:\n",
    "    M2_3 = R2teams1[3][4]\n",
    "else:\n",
    "    M2_3 = R2teams1[3][5]\n",
    "    \n",
    "if Rand2[3][3]>49:\n",
    "    M2_4 = R2teams1[3][6]\n",
    "else:\n",
    "    M2_4 = R2teams1[3][7]    \n"
   ]
  },
  {
   "cell_type": "code",
   "execution_count": 90,
   "metadata": {
    "collapsed": false
   },
   "outputs": [
    {
     "data": {
      "text/plain": [
       "[['California', 'Iowa', 'South Dakota State', 'Hawaii'],\n",
       " ['Duke', 'Oregon State', 'Northern Iowa', 'Cal State Bakersfield'],\n",
       " ['Xavier', 'Wisconsin', 'Chattanooga', 'Stephen F Austin'],\n",
       " ['Iowa State', 'Purdue', 'Ankansas-Little Rock', 'Iona']]"
      ]
     },
     "execution_count": 90,
     "metadata": {},
     "output_type": "execute_result"
    }
   ],
   "source": [
    "R3teams"
   ]
  },
  {
   "cell_type": "code",
   "execution_count": 117,
   "metadata": {
    "collapsed": false
   },
   "outputs": [],
   "source": [
    "R4teams=[[S3_1, S3_2],\n",
    "          [W3_1, W3_2],\n",
    "          [E3_1, E3_2],\n",
    "          [M3_1, M3_2]]"
   ]
  },
  {
   "cell_type": "code",
   "execution_count": 118,
   "metadata": {
    "collapsed": true
   },
   "outputs": [],
   "source": [
    "Rand3 = np.random.randint(100, size=(4, 2))"
   ]
  },
  {
   "cell_type": "code",
   "execution_count": 119,
   "metadata": {
    "collapsed": false
   },
   "outputs": [
    {
     "data": {
      "text/plain": [
       "array([[ 2, 17],\n",
       "       [62, 92],\n",
       "       [30, 12],\n",
       "       [23, 56]])"
      ]
     },
     "execution_count": 119,
     "metadata": {},
     "output_type": "execute_result"
    }
   ],
   "source": [
    "Rand3"
   ]
  },
  {
   "cell_type": "code",
   "execution_count": 120,
   "metadata": {
    "collapsed": true
   },
   "outputs": [],
   "source": [
    "# Round 3 (Sweet 16) simulation \n",
    "\n",
    "if Rand3[0][0]>49:\n",
    "    S3_1 = R3teams[0][0]\n",
    "else:\n",
    "    S3_1 = R3teams[0][1]\n",
    "\n",
    "if Rand3[0][1]>49:\n",
    "    S3_2 = R3teams[0][2]\n",
    "else:\n",
    "    S3_2 = R3teams[0][3]    \n",
    " \n",
    "\n",
    "    \n",
    "if Rand3[1][0]>49:\n",
    "    W3_1 = R3teams[1][0]\n",
    "else:\n",
    "    W3_1 = R3teams[1][1]\n",
    "\n",
    "if Rand3[1][1]>49:\n",
    "    W3_2 = R3teams[1][2]\n",
    "else:\n",
    "    W3_2 = R3teams[1][3]    \n",
    "   \n",
    "\n",
    "    \n",
    "if Rand3[2][0]>49:\n",
    "    E3_1 = R3teams[2][0]\n",
    "else:\n",
    "    E3_1 = R3teams[2][1]\n",
    "\n",
    "if Rand3[2][1]>49:\n",
    "    E3_2 = R3teams[2][2]\n",
    "else:\n",
    "    E3_2 = R3teams[2][3]    \n",
    "\n",
    "    \n",
    "\n",
    "if Rand3[3][0]>49:\n",
    "    M3_1 = R3teams[3][0]\n",
    "else:\n",
    "    M3_1 = R3teams[3][1]\n",
    "\n",
    "if Rand3[3][1]>49:\n",
    "    M3_2 = R3teams[3][2]\n",
    "else:\n",
    "    M3_2 = R3teams[3][3]    \n"
   ]
  },
  {
   "cell_type": "code",
   "execution_count": 121,
   "metadata": {
    "collapsed": false
   },
   "outputs": [
    {
     "data": {
      "text/plain": [
       "[['California', 'South Dakota State'],\n",
       " ['Duke', 'Cal State Bakersfield'],\n",
       " ['Xavier', 'Chattanooga'],\n",
       " ['Iowa State', 'Iona']]"
      ]
     },
     "execution_count": 121,
     "metadata": {},
     "output_type": "execute_result"
    }
   ],
   "source": [
    "R4teams"
   ]
  },
  {
   "cell_type": "code",
   "execution_count": 122,
   "metadata": {
    "collapsed": false
   },
   "outputs": [],
   "source": [
    "R5teams=[[S4],\n",
    "          [W4],\n",
    "          [E4],\n",
    "          [M4]]"
   ]
  },
  {
   "cell_type": "code",
   "execution_count": 123,
   "metadata": {
    "collapsed": true
   },
   "outputs": [],
   "source": [
    "Rand4 = np.random.randint(100, size=(4, 1))"
   ]
  },
  {
   "cell_type": "code",
   "execution_count": 124,
   "metadata": {
    "collapsed": false
   },
   "outputs": [
    {
     "data": {
      "text/plain": [
       "array([[18],\n",
       "       [73],\n",
       "       [91],\n",
       "       [35]])"
      ]
     },
     "execution_count": 124,
     "metadata": {},
     "output_type": "execute_result"
    }
   ],
   "source": [
    "Rand4"
   ]
  },
  {
   "cell_type": "code",
   "execution_count": 125,
   "metadata": {
    "collapsed": true
   },
   "outputs": [],
   "source": [
    "# Round 4 (Elite 8) simulation \n",
    "\n",
    "if Rand4[0][0]>49:\n",
    "    S4 = R4teams[0][0]\n",
    "else:\n",
    "    S4 = R4teams[0][1]\n",
    "\n",
    "if Rand4[1][0]>49:\n",
    "    W4 = R4teams[1][0]\n",
    "else:\n",
    "    W4 = R4teams[1][1]\n",
    "    \n",
    "if Rand4[2][0]>49:\n",
    "    E4 = R4teams[2][0]\n",
    "else:\n",
    "    E4 = R4teams[2][1]\n",
    "    \n",
    "if Rand4[3][0]>49:\n",
    "    M4 = R4teams[3][0]\n",
    "else:\n",
    "    M4 = R4teams[3][1]"
   ]
  },
  {
   "cell_type": "code",
   "execution_count": 126,
   "metadata": {
    "collapsed": false
   },
   "outputs": [
    {
     "data": {
      "text/plain": [
       "[['California'], ['Duke'], ['Chattanooga'], ['Iona']]"
      ]
     },
     "execution_count": 126,
     "metadata": {},
     "output_type": "execute_result"
    }
   ],
   "source": [
    "R5teams"
   ]
  },
  {
   "cell_type": "code",
   "execution_count": 127,
   "metadata": {
    "collapsed": false
   },
   "outputs": [],
   "source": [
    "R6teams=[F1, F2]"
   ]
  },
  {
   "cell_type": "code",
   "execution_count": 128,
   "metadata": {
    "collapsed": true
   },
   "outputs": [],
   "source": [
    "Rand5 = np.random.randint(100, size=(2, 1))"
   ]
  },
  {
   "cell_type": "code",
   "execution_count": 129,
   "metadata": {
    "collapsed": false
   },
   "outputs": [
    {
     "data": {
      "text/plain": [
       "array([[36],\n",
       "       [61]])"
      ]
     },
     "execution_count": 129,
     "metadata": {},
     "output_type": "execute_result"
    }
   ],
   "source": [
    "Rand5"
   ]
  },
  {
   "cell_type": "code",
   "execution_count": 130,
   "metadata": {
    "collapsed": false
   },
   "outputs": [],
   "source": [
    "# Round 5 (Final 4) simulation \n",
    "\n",
    "if Rand5[0][0]>49:\n",
    "    F1 = R5teams[0][0]\n",
    "else:\n",
    "    F1 = R5teams[1][0]\n",
    "\n",
    "if Rand5[1][0]>49:\n",
    "    F2 = R5teams[2][0]\n",
    "else:\n",
    "    F2 = R5teams[3][0]\n"
   ]
  },
  {
   "cell_type": "code",
   "execution_count": 131,
   "metadata": {
    "collapsed": false
   },
   "outputs": [
    {
     "data": {
      "text/plain": [
       "['California', 'Iona']"
      ]
     },
     "execution_count": 131,
     "metadata": {},
     "output_type": "execute_result"
    }
   ],
   "source": [
    "R6teams"
   ]
  },
  {
   "cell_type": "code",
   "execution_count": 139,
   "metadata": {
    "collapsed": false
   },
   "outputs": [],
   "source": [
    "Champion = Winner"
   ]
  },
  {
   "cell_type": "code",
   "execution_count": 133,
   "metadata": {
    "collapsed": true
   },
   "outputs": [],
   "source": [
    "Rand6 = np.random.randint(100, size=(1, 1))"
   ]
  },
  {
   "cell_type": "code",
   "execution_count": 134,
   "metadata": {
    "collapsed": false
   },
   "outputs": [
    {
     "data": {
      "text/plain": [
       "array([[88]])"
      ]
     },
     "execution_count": 134,
     "metadata": {},
     "output_type": "execute_result"
    }
   ],
   "source": [
    "Rand6"
   ]
  },
  {
   "cell_type": "code",
   "execution_count": 138,
   "metadata": {
    "collapsed": true
   },
   "outputs": [],
   "source": [
    "# Round 5 (Championship) simulation \n",
    "\n",
    "if Rand6[0][0]>49:\n",
    "    Winner = R6teams[0]\n",
    "else:\n",
    "    Winner = R6teams[1]\n"
   ]
  },
  {
   "cell_type": "code",
   "execution_count": 140,
   "metadata": {
    "collapsed": false
   },
   "outputs": [
    {
     "data": {
      "text/plain": [
       "'California'"
      ]
     },
     "execution_count": 140,
     "metadata": {},
     "output_type": "execute_result"
    }
   ],
   "source": [
    "Champion"
   ]
  },
  {
   "cell_type": "code",
   "execution_count": null,
   "metadata": {
    "collapsed": true
   },
   "outputs": [],
   "source": []
  }
 ],
 "metadata": {
  "kernelspec": {
   "display_name": "Python 3",
   "language": "python",
   "name": "python3"
  },
  "language_info": {
   "codemirror_mode": {
    "name": "ipython",
    "version": 3
   },
   "file_extension": ".py",
   "mimetype": "text/x-python",
   "name": "python",
   "nbconvert_exporter": "python",
   "pygments_lexer": "ipython3",
   "version": "3.5.1"
  }
 },
 "nbformat": 4,
 "nbformat_minor": 0
}
