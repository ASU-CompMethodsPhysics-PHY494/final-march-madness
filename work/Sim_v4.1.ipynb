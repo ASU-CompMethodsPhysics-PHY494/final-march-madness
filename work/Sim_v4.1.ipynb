{
 "cells": [
  {
   "cell_type": "code",
   "execution_count": 96,
   "metadata": {
    "collapsed": true
   },
   "outputs": [],
   "source": [
    "# Thia model integrates an Bayes theorem derived odds ratio along with historic round 1 and 2 seed match up \n",
    "# with the rest of the games haves bayes derived odds only.\n",
    "# under this model, a 16 seed team has a 0% chance of winning"
   ]
  },
  {
   "cell_type": "code",
   "execution_count": 117,
   "metadata": {
    "collapsed": false
   },
   "outputs": [
    {
     "name": "stdout",
     "output_type": "stream",
     "text": [
      "Populating the interactive namespace from numpy and matplotlib\n"
     ]
    }
   ],
   "source": [
    "import numpy as np\n",
    "import timeit\n",
    "from collections import Counter\n",
    "%pylab inline"
   ]
  },
  {
   "cell_type": "code",
   "execution_count": 118,
   "metadata": {
    "collapsed": false
   },
   "outputs": [],
   "source": [
    "# Tuple Array of South, West, East and Midwest Regionals respectively, listed in the following seed ranking order (to match round 1 game matchup order) #1, 16, 8, 9, 5, 12, 4, 13, 6, 11, 3, 14, 7, 10, 2, 15\n",
    "R1teams = ((\"Kansas\", \"Austin Peay\", \"Colorado\", \"Connecticut\", \"Maryland\", \"South Dakota State\", \"California\", \"Hawaii\", \"Arizona\", \"Wichita State\", \"Miami\", \"Buffalo\", \"Iowa\", \"Temple\", \"Villanova\", \"UNC Asheville\"),\n",
    "            (\"Oregon\", \"Holy Cross\", \"Saint Joseph's\", \"Cincinnatti\", \"Baylor\", \"Yale\", \"Duke\", \"UNC Wilmington\", \"Texas\", \"Northern Iowa\", \"Texan A&M\", \"Green Bay\", \"Oregon State\", \"VCU\", \"Oklahoma\", \"Cal State Bakersfield\"),\n",
    "            (\"North Carolina\", \"Florida Gulf Coast\", \"USC\", \"Providence\", \"Indiana\", \"Chattanooga\", \"Kentucky\", \"Stony Brook\", \"Notre Dame\", \"Michigan\", \"West Virginia\", \"Stephen F Austin\", \"Wisconsin\", \"Pittsburgh\", \"Xavier\", \"Weber State\"), \n",
    "            (\"Virginia\", \"Hampton\", \"Texas Tech\", \"Butler\", \"Purdue\", \"Ankansas-Little Rock\", \"Iowa State\", \"Iona\", \"Seton Hall\", \"Gonzaga\", \"Utah\", \"Fresno State\", \"Dayton\", \"Syracuse\", \"Michigan State\", \"Middle Tennessee\"))\n",
    "\n",
    "R1Seed = ((1, 16, 8, 9, 5, 12, 4, 13, 6, 11, 3, 14, 7, 10, 2, 15),\n",
    "         (1, 16, 8, 9, 5, 12, 4, 13, 6, 11, 3, 14, 7, 10, 2, 15),\n",
    "         (1, 16, 8, 9, 5, 12, 4, 13, 6, 11, 3, 14, 7, 10, 2, 15),\n",
    "         (1, 16, 8, 9, 5, 12, 4, 13, 6, 11, 3, 14, 7, 10, 2, 15))\n",
    "\n",
    "# Historical outcomes of seed matchups from NCAA March Madness tournaments from 1985-2015 (all tournaments since 64 teams started competing)\n",
    "# Matrix setup as shown below with numbers in cells representing the outcome of vertical seed's chance of beating horizontal seed\n",
    "# Cells with \"na\" values are seeds that have never faced each other in the history of the tournament (since 1985) \n",
    "# seed 1  2  3  4  5  6  7  8  9  10  11  12  13  14  15  16\n",
    "#   1\n",
    "#   2\n",
    "#   3\n",
    "#   4\n",
    "#   5\n",
    "#   6\n",
    "#   7\n",
    "#   8\n",
    "#   9\n",
    "#  10\n",
    "#  11\n",
    "#  12\n",
    "#  13\n",
    "#  14\n",
    "#  15\n",
    "#  16\n",
    "\n",
    "seedmatch = (((18/36, 33/59, 17/28, 39/56, 34/41, 8/12, 4/5, 52/65, 57/62, 4/4, 3/6, 19/19, 4/4, \"na\", \"na\", 124/124),\n",
    "              (26/59, 3/6, 25/45, 3/8, 1/4, 23/29, 55/72, 3/8, 0/1, 26/45, 13/14, 1/1, \"na\", \"na\", 117/124, \"na\"),\n",
    "              (11/28, 17/45, 1/2, 4/7, 2/3, 38/66, 7/12, 1/1, 1/1, 9/13, 26/39, \"na\", \"na\", 104/124, 1/1, \"na\"),\n",
    "              (17/56, 5/8, 3/7, 1/2, 36/66, 2/4, 2/4, 3/8, 2/2, 2/2, \"na\", 21/33, 99/124, \"na\", \"na\", \"na\"),\n",
    "              (7/41, 3/4, 1/3, 30/66, 1/2, 1/1, \"na\", 1/3, 1/2, 1/1, \"na\", 80/124, 11/14, \"na\", \"na\", \"na\"),\n",
    "              (4/12, 6/29, 28/66, 2/4, 0/1, 0.5, 3/6, 0/1, \"na\", 4/6, 81/124, \"na\", \"na\", 12/14, \"na\", \"na\"),\n",
    "              (1/5, 17/72, 5/12, 2/4, \"na\", 3/6, 0.5, 1/2, \"na\", 75/124, 0/3, \"na\", \"na\", 1/1, 2/3, \"na\"),\n",
    "              (13/65, 5/8, 0/1, 5/8, 2/3, 1/1, 1/2, 0.5, 63/124, \"na\", 1/1, 0/1, 1/1, \"na\", \"na\", \"na\"),\n",
    "              (5/62, 1/1, 0/1, 0/2, 1/2, \"na\", \"na\", 61/124, 0.5, \"na\", \"na\", \"na\", 1/1, \"na\", \"na\", \"na\"),\n",
    "              (0/4, 19/45, 4/13, 0/2, 0/1, 2/6, 49/124, \"na\", \"na\", 0.5, 0/2, \"na\", \"na\", 1/1, 0/4, \"na\"),\n",
    "              (3/6, 1/14, 13/39, \"na\", \"na\", 43/124, 3/3, 0/1, \"na\", 2/2, 0.5, \"na\", \"na\", 5/5, \"na\", \"na\"),\n",
    "              (0/19, 0/1, \"na\", 12/33, 44/124, \"na\", \"na\", 1/1, \"na\", \"na\", \"na\", 0.5, 8/11, \"na\", \"na\", \"na\"),\n",
    "              (0/4, \"na\", \"na\", 25/124, 3/14, \"na\", \"na\", 0/1, 0/1, \"na\", \"na\", 3/11, 0.5, \"na\", \"na\", \"na\"),\n",
    "              (\"na\", \"na\", 20/124, \"na\", \"na\", 2/14, 0/1, \"na\", \"na\", 0/1, 0/5, \"na\", \"na\", 0.5, \"na\", \"na\"),\n",
    "              (\"na\", 7/124, 0/1, \"na\", \"na\", \"na\", 1/3, \"na\", \"na\", 0/4, \"na\", \"na\", \"na\", \"na\", 0.5, \"na\"),\n",
    "              (0/124, \"na\", \"na\", \"na\", \"na\", \"na\", \"na\", \"na\", \"na\", \"na\", \"na\", \"na\", \"na\", \"na\", \"na\", 0.5)))\n",
    "\n",
    "# Tuple Array of percent of total regular season games won of above teams respectively (prior to start of tournament)\n",
    "STotWin = ((30/34, 18/35, 22/33, 24/34, 25/33, 26/33, 23/33, 27/32, 25/33, 24/32, 25/32, 20/34, 21/31, 21/32, 29/34, 22/33),\n",
    "            (28/34, 14/33, 27/34, 22/32, 22/33, 22/28, 23/33, 25/32, 20/32, 22/34, 26/34, 23/35, 19/31, 24/34, 25/32, 24/32),\n",
    "            (28/34, 20/33, 21/33, 23/33, 25/32, 29/34, 26/34, 26/32, 21/32, 22/34, 26/34, 27/32, 20/32, 21/32, 27/32, 26/34), \n",
    "            (26/33, 21/31, 19/31, 21/31, 26/34, 29/33, 21/32, 22/32, 25/33, 26/33, 26/34, 25/34, 25/32, 19/32, 29/34, 24/33))\n",
    "\n",
    "#1, 16, 8, 9, 5, 12, 4, 13, 6, 11, 3, 14, 7, 10, 2, 15\n",
    "# Tuple Array of percent of last 10 regular season games won of above teams respectively (prior to start of tournament) ie Recency Factor\n",
    "SL10Win = ((10/10, 8/10, 5/10, 7/10, 5/10, 8/10, 8/10, 8/10, 7/10, 7/10, 7/10, 6/10, 4/10, 7/10, 8/10, 7/10),\n",
    "            (8/10, 5/10, 7/10, 6/10, 5/10, 9/10, 6/10, 8/10, 5/10, 9/10, 8/10, 8/10, 6/10, 7/10, 6/10, 9/10),\n",
    "            (8/10, 7/10, 3/10, 5/10, 7/10, 8/10, 8/10, 8/10, 6/10, 5/10, 7/10, 10/10, 7/10, 4/10, 7/10, 9/10), \n",
    "            (7/10, 8/10, 6/10, 7/10, 7/10, 8/10, 5/10, 9/10, 8/10, 8/10, 9/10, 9/10, 6/10, 5/10, 9/10, 7/10))\n",
    "\n",
    "# Tuple Array of percent of total regular season away games won of above teams respectively (prior to start of tournament)\n",
    "AwayWin = ((13/17, 11/21, 6/16, 10/17, 9/16, 13/20, 5/15, 10/12, 8/15, 10/17, 10/16, 10/19, 8/16, 10/18, 14/18, 11/19),\n",
    "            (10/16, 6/19, 15/18, 8/15, 8/14, 10/16, 8/15, 13/18, 6/15, 11/20, 9/16, 12/21, 7/16, 9/17, 11/17, 10/17),\n",
    "            (13/18, 4/13, 5/15, 10/16, 8/15, 16/20, 9/17, 11/16, 7/16, 9/17, 13/19, 13/18, 7/14, 6/13, 12/16, 18/20), \n",
    "            (11/18, 12/20, 5/14, 8/15, 9/16, 15/19, 7/17, 11/19, 12/17, 15/18, 10/17, 9/16, 11/15, 6/15, 15/18, 13/19))\n",
    "\n",
    "# Tuple Array of percent of total regular season games won of above teams respectively when played against a top 25 team (prior to start of tournament)\n",
    "Top25Win = ((11/14, 0/2, 1/6, 1/4, 2/7, 0, 3/6, 0/1, 3/6, 1/1, 5/8, 0/2, 5/9, 3/7, 3/7, 0),\n",
    "            (5/5, 0/1, 1/2, 1/4, 5/14, 0/1, 3/7, 0, 6/13, 3/3, 4/6, 0, 1/5, 0/2, 8/13, 0),\n",
    "            (5/8, 0/1, 2/6, 4/9, 4/6, 0/1, 3/4, 0/1, 4/9, 3/12, 6/12, 0/1, 5/10, 1/8, 6/7, 0), \n",
    "            (7/9, 0/1, 3/11, 2/8, 2/7, 0, 4/11, 0, 4/7, 1/4, 2/4, 0/2, 1/2, 4/9, 5/7, 0))\n",
    "\n",
    "# Tuple Array of number of regular season games of above teams respectively played against a top 25 team (prior to start of tournament)\n",
    "Top25Played = ((14, 2, 6, 4, 7, 0, 6, 1, 6, 1, 8, 2, 9, 7, 7, 0),\n",
    "            (5, 1, 2, 4, 14, 1, 7, 0, 13, 3, 6, 0, 5, 2, 13, 0),\n",
    "            (8, 1, 6, 9, 6, 1, 4, 1, 9, 12, 12, 1, 10, 8, 7, 0), \n",
    "            (9, 1, 11, 8, 7, 0, 11, 0, 7, 4, 4, 2, 2, 9, 7, 0))\n",
    "\n",
    "WtFctrTotWin = 0.34\n",
    "\n",
    "WtFctrRecency = 0.33\n",
    "\n",
    "WtFctrAwayWin = 0.33\n",
    "\n",
    "RawScore = np.zeros((4,16))\n",
    "\n",
    "for i in range(16):\n",
    "    for j in range(4):\n",
    "         RawScore[j][i] = WtFctrTotWin*STotWin[j][i] + WtFctrRecency*SL10Win[j][i] + WtFctrAwayWin*AwayWin[j][i]\n",
    "            \n",
    "# WeightedScore\n",
    "\n",
    "# Winning streaks\n",
    "\n",
    "# Win pct vs top 25 teams\n",
    "\n",
    "#RawScore"
   ]
  },
  {
   "cell_type": "code",
   "execution_count": 119,
   "metadata": {
    "collapsed": true
   },
   "outputs": [],
   "source": [
    "# Tuple Array of historic number of times out of 124 games (since 1985) that seed 1 has beaten seed 16, 8 beaten 9, 5 beaten 12, 4 beaten 13, 6 beaten 11, 3 beaten 14, 7 beaten 10, and 2 beaten 15, respectively\n",
    "R1SeedHistoric = (124, 63, 80, 99, 81, 104, 75, 117)\n"
   ]
  },
  {
   "cell_type": "code",
   "execution_count": 155,
   "metadata": {
    "collapsed": false
   },
   "outputs": [],
   "source": [
    "Champions = []\n",
    "Final2 = []\n",
    "Final4 = []\n",
    "Elite8 = []\n",
    "Sweet16 = []\n",
    "Round2 = []\n",
    "nOdds = []\n",
    "nRounds = []\n",
    "cc = 0\n",
    "n = 0\n",
    "m = 1"
   ]
  },
  {
   "cell_type": "code",
   "execution_count": 139,
   "metadata": {
    "collapsed": false
   },
   "outputs": [],
   "source": [
    "# for i in range(8):\n",
    "#    for j in range(4):\n",
    "#        print(WeightedScore[j][2*i]*(R1SeedHistoric[i]/124))"
   ]
  },
  {
   "cell_type": "code",
   "execution_count": 156,
   "metadata": {
    "collapsed": false
   },
   "outputs": [],
   "source": [
    "# Probability calculation for round 1 for each game. Since the tournament always starts with the same teams facing each other, \n",
    "# the probability odds are fixed and thus placed out of the monte carlo loop\n",
    "\n",
    "R1Prob = np.zeros((4,8))\n",
    "\n",
    "for i in range(8):\n",
    "    for j in range(4):\n",
    "        R1Prob[j][i] = (RawScore[j][2*i]*(R1SeedHistoric[i]/124))/((RawScore[j][2*i]*(R1SeedHistoric[i]/124))+((RawScore[j][2*i+1])*(1-(R1SeedHistoric[i]/124))))\n",
    "\n",
    "\n"
   ]
  },
  {
   "cell_type": "code",
   "execution_count": 157,
   "metadata": {
    "collapsed": false
   },
   "outputs": [
    {
     "name": "stdout",
     "output_type": "stream",
     "text": [
      "Calculation time: 41.185459611593615 seconds\n",
      " \n",
      "Percentage of cases Villanova is champion: 5.763999999999999 %\n",
      "Odds Villanova wins championship: 17.349063150589867 to 1\n",
      " \n",
      "Percentage of cases Villanova and North Carolina match up in championship: 1.4540000000000002 %\n",
      "Odds Villanova and North Carolina make championship: 68.7757909215956 to 1\n",
      " \n",
      "Percentage of cases Villanova, Oklahoma, North Carolina and Syracuse make Final 4: 0.0 %\n",
      "Odds Villanova, Oklahoma, North Carolina and Syracuse make Final 4: 0 to 1\n",
      "Need to collect greater sample size for analysis.\n"
     ]
    }
   ],
   "source": [
    "start = timeit.default_timer() # starts calculation time stopwatch\n",
    "\n",
    "for i in range(100000):\n",
    "\n",
    "    RawScore2 = np.zeros((4,8))\n",
    "    RawScore3 = np.zeros((4,4))\n",
    "    RawScore4 = np.zeros((4,2))\n",
    "    RawScore5 = np.zeros((4,1))\n",
    "    RawScore6 = np.zeros((2,1))\n",
    "    \n",
    "    R2Prob = np.zeros((4,4))\n",
    "    R3Prob = np.zeros((4,2))\n",
    "    R4Prob = np.zeros((4,1))\n",
    "    R5Prob = np.zeros((2,1))\n",
    "    R6Prob = np.zeros((1,1))\n",
    "       \n",
    "    R1Winners=[[\"\", \"\", \"\", \"\", \"\", \"\", \"\", \"\"],\n",
    "              [\"\", \"\", \"\", \"\", \"\", \"\", \"\", \"\"],\n",
    "              [\"\", \"\", \"\", \"\", \"\", \"\", \"\", \"\"],\n",
    "              [\"\", \"\", \"\", \"\", \"\", \"\", \"\", \"\"]]\n",
    "    \n",
    "    R2Seed = np.zeros((4,8), dtype = int)\n",
    "    R3Seed = np.zeros((4,4), dtype = int)\n",
    "    R4Seed = np.zeros((4,2), dtype = int)\n",
    "    R5Seed = np.zeros((4,1), dtype = int)\n",
    "    R6Seed = np.zeros((2,1), dtype = int)\n",
    "    \n",
    "    R2SeedHistoric = np.zeros((4,4))\n",
    "\n",
    "    R2Winners=[[\"\", \"\", \"\", \"\"],\n",
    "              [\"\", \"\", \"\", \"\"],\n",
    "              [\"\", \"\", \"\", \"\"],\n",
    "              [\"\", \"\", \"\", \"\"]]\n",
    "\n",
    "    R3Winners=[[\"\", \"\"],\n",
    "              [\"\", \"\"],\n",
    "              [\"\", \"\"],\n",
    "              [\"\", \"\"]]\n",
    "\n",
    "    R4Winners=[[\"\"],\n",
    "              [\"\"],\n",
    "              [\"\"],\n",
    "              [\"\"]]\n",
    "\n",
    "    R5Winners=[\"\", \"\"]\n",
    "\n",
    "    Champion=[\"\"]\n",
    "\n",
    "#--------------------------------------------------------------------------------------------------------------------------------------\n",
    "    #Random number generator for first round of games (8 games x 4 conferences) set up to randomize out of 124 (to match R1SeedHistoric)\n",
    "    Rand1 = np.random.randint(100, size=(4, 8))\n",
    "\n",
    "    # Round 1 simulation\n",
    "    for i in range(8):\n",
    "        for j in range(4):\n",
    "            if Rand1[j][i]+1 < (R1Prob[j][i]*100):\n",
    "                R1Winners[j][i] = R1teams[j][2*i]\n",
    "                R2Seed[j][i] = R1Seed[j][2*i]\n",
    "                RawScore2[j][i] = RawScore[j][2*i]\n",
    "            else:\n",
    "                R1Winners[j][i] = R1teams[j][2*i+1]\n",
    "                R2Seed[j][i] = R1Seed[j][2*i+1]\n",
    "                RawScore2[j][i] = RawScore[j][2*i+1]\n",
    "                \n",
    "    # Make seed matchup matrix for R1 winners            \n",
    "    for i in range(4):\n",
    "        for j in range(4):\n",
    "            if seedmatch[(R2Seed[j][2*i])-1][(R2Seed[j][2*i+1])-1] == \"na\":\n",
    "                R2SeedHistoric[j][i] = 0.5\n",
    "            else:\n",
    "                R2SeedHistoric[j][i] = seedmatch[(R2Seed[j][2*i])-1][(R2Seed[j][2*i+1])-1]\n",
    "\n",
    "# --------------------------------------------------------------------------------------------------------------------------------------             \n",
    "            \n",
    "    for i in range(4):\n",
    "        for j in range(4):\n",
    "            R2Prob[j][i] = (RawScore2[j][2*i]*(R2SeedHistoric[j][i]))/((RawScore2[j][2*i]*(R2SeedHistoric[j][i]))+((RawScore2[j][2*i+1])*(1-(R2SeedHistoric[j][i]))))\n",
    "\n",
    "    Rand2 = np.random.randint(100, size=(4, 4))  #Random generator for second round (4 games x 4 conferences)\n",
    "\n",
    "    # Round 2 simulation\n",
    "    for i in range(4):\n",
    "        for j in range(4):\n",
    "            if Rand2[j][i] < (R2Prob[j][i]*100):\n",
    "                R2Winners[j][i] = R1Winners[j][2*i]\n",
    "                R3Seed[j][i] = R2Seed[j][2*i]\n",
    "                RawScore3[j][i] = RawScore2[j][2*i]\n",
    "            else:\n",
    "                R2Winners[j][i] = R1Winners[j][2*i+1]\n",
    "                R3Seed[j][i] = R1Seed[j][2*i+1]\n",
    "                RawScore3[j][i] = RawScore[j][2*i+1]\n",
    "                \n",
    "#--------------------------------------------------------------------------------------------------------------------------------------\n",
    "    for i in range(2):\n",
    "        for j in range(4):\n",
    "            R3Prob[j][i] = (RawScore3[j][2*i]/(RawScore3[j][2*i]+(RawScore3[j][2*i+1])))\n",
    "\n",
    "    Rand3 = np.random.randint(100, size=(4, 2))\n",
    "\n",
    "    # Round 3 (Sweet 16) simulation \n",
    "    for i in range(2):\n",
    "        for j in range(4):\n",
    "            if Rand3[j][i] < (R3Prob[j][i]*100):\n",
    "                R3Winners[j][i] = R2Winners[j][2*i]\n",
    "                R4Seed[j][i] = R3Seed[j][2*i]\n",
    "                RawScore4[j][i] = RawScore3[j][2*i]\n",
    "            else:\n",
    "                R3Winners[j][i] = R2Winners[j][2*i+1]\n",
    "                R4Seed[j][i] = R3Seed[j][2*i+1]\n",
    "                RawScore4[j][i] = RawScore3[j][2*i+1]\n",
    "                \n",
    "                \n",
    "#--------------------------------------------------------------------------------------------------------------------------------------\n",
    "    for i in range(1):\n",
    "        for j in range(4):\n",
    "            R4Prob[j][i] = (RawScore4[j][2*i]/(RawScore4[j][2*i]+(RawScore4[j][2*i+1])))\n",
    "            \n",
    "    Rand4 = np.random.randint(100, size=(4, 1))\n",
    "\n",
    "    # Round 4 (Elite 8) simulation \n",
    "    for i in range(1):\n",
    "        for j in range(4):\n",
    "            if Rand4[j][i] < (R4Prob[j][i]*100):\n",
    "                R4Winners[j][i] = R3Winners[j][2*i]\n",
    "                R5Seed[j][i] = R4Seed[j][2*i]\n",
    "                RawScore5[j][i] = RawScore4[j][2*i]\n",
    "            else:\n",
    "                R4Winners[j][i] = R3Winners[j][2*i+1]\n",
    "                R5Seed[j][i] = R4Seed[j][2*i+1]\n",
    "                RawScore5[j][i] = RawScore4[j][2*i+1]\n",
    "                \n",
    "                \n",
    "#--------------------------------------------------------------------------------------------------------------------------------------\n",
    "\n",
    "    for i in range(2):\n",
    "        R5Prob[i][0] = (RawScore5[2*i][0]/(RawScore5[2*i][0]+(RawScore5[2*i+1][0])))\n",
    "            \n",
    "    Final4.append(R4Winners)\n",
    "                \n",
    "    Rand5 = np.random.randint(100, size=(2, 1))\n",
    "\n",
    "    # Round 5 (Final 4) simulation \n",
    "    for i in range(2):\n",
    "        if Rand5[i][0] < (R5Prob[i][0]*100):\n",
    "            R5Winners[i] = R4Winners[2*i][0]\n",
    "            R6Seed[i][0] = R5Seed[2*i][0]\n",
    "            RawScore6[i][0] = RawScore5[2*i][0]\n",
    "        else:\n",
    "            R5Winners[i] = R4Winners[2*i+1][0]\n",
    "            R6Seed[i][0] = R5Seed[2*i+1][0]\n",
    "            RawScore6[i][0] = RawScore5[2*i+1][0]      \n",
    "            \n",
    "    Final2.append(R5Winners)            \n",
    "    \n",
    "#--------------------------------------------------------------------------------------------------------------------------------------\n",
    "\n",
    "    for i in range(1):\n",
    "        R6Prob[i][0] = (RawScore6[2*i][0]/(RawScore6[2*i][0]+(RawScore6[2*i+1][0])))  \n",
    "\n",
    "    Rand6 = np.random.randint(100, size=(1, 1))\n",
    "\n",
    "    # Round 6 (Championship) simulation \n",
    "\n",
    "    if Rand6[0][0] < (R5Prob[i][0]*100):\n",
    "        Champion = R5Winners[0]\n",
    "    else:\n",
    "        Champion = R5Winners[1]\n",
    "    \n",
    "    Champions.append(Champion)\n",
    "    \n",
    "    \n",
    "#--------------------------------------------------------------------------------------------------------------------------------------\n",
    "# Loop to track Villanova Champion odds every 100 tournaments\n",
    "    if n == (m * 100):\n",
    "        nOdds.append(Champions.count(\"Villanova\") / len(Champions)   * 100)\n",
    "        nRounds.append(cc)\n",
    "        cc = cc + 1\n",
    "        m = m + 1\n",
    "    n = n + 1\n",
    "#--------------------------------------------------------------------------------------------------------------------------------------\n",
    "\n",
    "\n",
    "stop = timeit.default_timer() # stops calculation time stopwatch\n",
    "\n",
    "print(\"Calculation time:\", stop - start, \"seconds\") # show total calculation time \n",
    "    \n",
    "print(\" \")\n",
    "print(\"Percentage of cases Villanova is champion:\", Champions.count(\"Villanova\") / len(Champions)   * 100, \"%\")\n",
    "print(\"Odds Villanova wins championship:\", len(Champions) / Champions.count(\"Villanova\"), \"to 1\")\n",
    "print(\" \")\n",
    "print(\"Percentage of cases Villanova and North Carolina match up in championship:\", Final2.count([\"Villanova\", \"North Carolina\"]) / len(Final2)   * 100, \"%\")\n",
    "print(\"Odds Villanova and North Carolina make championship:\", len(Final2) / Final2.count([\"Villanova\", \"North Carolina\"]), \"to 1\")\n",
    "print(\" \")\n",
    "F4P =  Final4.count([\"Villanova\", \"Oklahoma\", \"North Carolina\", \"Syracuse\"]) / len(Final4)\n",
    "print(\"Percentage of cases Villanova, Oklahoma, North Carolina and Syracuse make Final 4:\", F4P, \"%\")\n",
    "if F4P == 0:\n",
    "    print(\"Odds Villanova, Oklahoma, North Carolina and Syracuse make Final 4: 0 to 1\")\n",
    "    print(\"Need to collect greater sample size for analysis.\")\n",
    "else:\n",
    "    print(\"Odds Villanova, Oklahoma, North Carolina and Syracuse make Final 4:\", len(Final4) / Final4.count([\"Villanova\", \"Oklahoma\", \"North Carolina\", \"Syracuse\"]), \"to 1\")"
   ]
  },
  {
   "cell_type": "code",
   "execution_count": 158,
   "metadata": {
    "collapsed": false
   },
   "outputs": [
    {
     "name": "stdout",
     "output_type": "stream",
     "text": [
      "999 999\n"
     ]
    }
   ],
   "source": [
    "print(len(nRounds), len(nOdds))"
   ]
  },
  {
   "cell_type": "code",
   "execution_count": 159,
   "metadata": {
    "collapsed": false
   },
   "outputs": [
    {
     "data": {
      "text/plain": [
       "[<matplotlib.lines.Line2D at 0x1cdb36b0198>]"
      ]
     },
     "execution_count": 159,
     "metadata": {},
     "output_type": "execute_result"
    },
    {
     "data": {
      "image/png": "[encoded data removed]",
      "text/plain": [
       "<matplotlib.figure.Figure at 0x1cdf2926f98>"
      ]
     },
     "metadata": {},
     "output_type": "display_data"
    }
   ],
   "source": [
    "plot(nRounds, nOdds)"
   ]
  },
  {
   "cell_type": "code",
   "execution_count": 130,
   "metadata": {
    "collapsed": false
   },
   "outputs": [
    {
     "data": {
      "text/plain": [
       "10000"
      ]
     },
     "execution_count": 130,
     "metadata": {},
     "output_type": "execute_result"
    }
   ],
   "source": [
    "len(Champions)"
   ]
  },
  {
   "cell_type": "code",
   "execution_count": 45,
   "metadata": {
    "collapsed": false
   },
   "outputs": [
    {
     "data": {
      "text/plain": [
       "[('Kansas', 2758),\n",
       " ('North Carolina', 2091),\n",
       " ('Oregon', 1539),\n",
       " ('Virginia', 1405),\n",
       " ('Seton Hall', 419),\n",
       " ('West Virginia', 353),\n",
       " ('Texan A&M', 326),\n",
       " ('Purdue', 313),\n",
       " ('Utah', 260),\n",
       " ('Indiana', 259)]"
      ]
     },
     "execution_count": 45,
     "metadata": {},
     "output_type": "execute_result"
    }
   ],
   "source": [
    "#List most recurring Champions in list\n",
    "\n",
    "Counter(Champions).most_common(10)"
   ]
  },
  {
   "cell_type": "code",
   "execution_count": 8,
   "metadata": {
    "collapsed": false
   },
   "outputs": [
    {
     "data": {
      "text/plain": [
       "2860"
      ]
     },
     "execution_count": 8,
     "metadata": {},
     "output_type": "execute_result"
    }
   ],
   "source": [
    "# Counts number of time the real world 2016 NCAA champion appears in our champions list\n",
    "\n",
    "Champions.count(\"Villanova\")"
   ]
  },
  {
   "cell_type": "code",
   "execution_count": 40,
   "metadata": {
    "collapsed": false
   },
   "outputs": [
    {
     "ename": "TypeError",
     "evalue": "unhashable type: 'list'",
     "output_type": "error",
     "traceback": [
      "\u001b[1;31m---------------------------------------------------------------------------\u001b[0m",
      "\u001b[1;31mTypeError\u001b[0m                                 Traceback (most recent call last)",
      "\u001b[1;32m<ipython-input-40-f819fb257a80>\u001b[0m in \u001b[0;36m<module>\u001b[1;34m()\u001b[0m\n\u001b[1;32m----> 1\u001b[1;33m \u001b[0mCounter\u001b[0m\u001b[1;33m(\u001b[0m\u001b[0mFinal2\u001b[0m\u001b[1;33m)\u001b[0m\u001b[1;33m.\u001b[0m\u001b[0mmost_common\u001b[0m\u001b[1;33m(\u001b[0m\u001b[1;36m5\u001b[0m\u001b[1;33m)\u001b[0m\u001b[1;33m\u001b[0m\u001b[0m\n\u001b[0m",
      "\u001b[1;32mC:\\Users\\SWIFT\\Anaconda3\\lib\\collections\\__init__.py\u001b[0m in \u001b[0;36m__init__\u001b[1;34m(*args, **kwds)\u001b[0m\n\u001b[0;32m    512\u001b[0m             \u001b[1;32mraise\u001b[0m \u001b[0mTypeError\u001b[0m\u001b[1;33m(\u001b[0m\u001b[1;34m'expected at most 1 arguments, got %d'\u001b[0m \u001b[1;33m%\u001b[0m \u001b[0mlen\u001b[0m\u001b[1;33m(\u001b[0m\u001b[0margs\u001b[0m\u001b[1;33m)\u001b[0m\u001b[1;33m)\u001b[0m\u001b[1;33m\u001b[0m\u001b[0m\n\u001b[0;32m    513\u001b[0m         \u001b[0msuper\u001b[0m\u001b[1;33m(\u001b[0m\u001b[0mCounter\u001b[0m\u001b[1;33m,\u001b[0m \u001b[0mself\u001b[0m\u001b[1;33m)\u001b[0m\u001b[1;33m.\u001b[0m\u001b[0m__init__\u001b[0m\u001b[1;33m(\u001b[0m\u001b[1;33m)\u001b[0m\u001b[1;33m\u001b[0m\u001b[0m\n\u001b[1;32m--> 514\u001b[1;33m         \u001b[0mself\u001b[0m\u001b[1;33m.\u001b[0m\u001b[0mupdate\u001b[0m\u001b[1;33m(\u001b[0m\u001b[1;33m*\u001b[0m\u001b[0margs\u001b[0m\u001b[1;33m,\u001b[0m \u001b[1;33m**\u001b[0m\u001b[0mkwds\u001b[0m\u001b[1;33m)\u001b[0m\u001b[1;33m\u001b[0m\u001b[0m\n\u001b[0m\u001b[0;32m    515\u001b[0m \u001b[1;33m\u001b[0m\u001b[0m\n\u001b[0;32m    516\u001b[0m     \u001b[1;32mdef\u001b[0m \u001b[0m__missing__\u001b[0m\u001b[1;33m(\u001b[0m\u001b[0mself\u001b[0m\u001b[1;33m,\u001b[0m \u001b[0mkey\u001b[0m\u001b[1;33m)\u001b[0m\u001b[1;33m:\u001b[0m\u001b[1;33m\u001b[0m\u001b[0m\n",
      "\u001b[1;32mC:\\Users\\SWIFT\\Anaconda3\\lib\\collections\\__init__.py\u001b[0m in \u001b[0;36mupdate\u001b[1;34m(*args, **kwds)\u001b[0m\n\u001b[0;32m    599\u001b[0m                     \u001b[0msuper\u001b[0m\u001b[1;33m(\u001b[0m\u001b[0mCounter\u001b[0m\u001b[1;33m,\u001b[0m \u001b[0mself\u001b[0m\u001b[1;33m)\u001b[0m\u001b[1;33m.\u001b[0m\u001b[0mupdate\u001b[0m\u001b[1;33m(\u001b[0m\u001b[0miterable\u001b[0m\u001b[1;33m)\u001b[0m \u001b[1;31m# fast path when counter is empty\u001b[0m\u001b[1;33m\u001b[0m\u001b[0m\n\u001b[0;32m    600\u001b[0m             \u001b[1;32melse\u001b[0m\u001b[1;33m:\u001b[0m\u001b[1;33m\u001b[0m\u001b[0m\n\u001b[1;32m--> 601\u001b[1;33m                 \u001b[0m_count_elements\u001b[0m\u001b[1;33m(\u001b[0m\u001b[0mself\u001b[0m\u001b[1;33m,\u001b[0m \u001b[0miterable\u001b[0m\u001b[1;33m)\u001b[0m\u001b[1;33m\u001b[0m\u001b[0m\n\u001b[0m\u001b[0;32m    602\u001b[0m         \u001b[1;32mif\u001b[0m \u001b[0mkwds\u001b[0m\u001b[1;33m:\u001b[0m\u001b[1;33m\u001b[0m\u001b[0m\n\u001b[0;32m    603\u001b[0m             \u001b[0mself\u001b[0m\u001b[1;33m.\u001b[0m\u001b[0mupdate\u001b[0m\u001b[1;33m(\u001b[0m\u001b[0mkwds\u001b[0m\u001b[1;33m)\u001b[0m\u001b[1;33m\u001b[0m\u001b[0m\n",
      "\u001b[1;31mTypeError\u001b[0m: unhashable type: 'list'"
     ]
    }
   ],
   "source": [
    "Counter(Final2).most_common(5)"
   ]
  },
  {
   "cell_type": "code",
   "execution_count": null,
   "metadata": {
    "collapsed": true
   },
   "outputs": [],
   "source": []
  }
 ],
 "metadata": {
  "kernelspec": {
   "display_name": "Python 3",
   "language": "python",
   "name": "python3"
  },
  "language_info": {
   "codemirror_mode": {
    "name": "ipython",
    "version": 3
   },
   "file_extension": ".py",
   "mimetype": "text/x-python",
   "name": "python",
   "nbconvert_exporter": "python",
   "pygments_lexer": "ipython3",
   "version": "3.5.1"
  }
 },
 "nbformat": 4,
 "nbformat_minor": 0
}
