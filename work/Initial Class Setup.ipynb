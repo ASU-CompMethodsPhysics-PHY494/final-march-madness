{
 "cells": [
  {
   "cell_type": "code",
   "execution_count": 1,
   "metadata": {
    "collapsed": true
   },
   "outputs": [],
   "source": [
    "import numpy as np"
   ]
  },
  {
   "cell_type": "code",
   "execution_count": 135,
   "metadata": {
    "collapsed": false
   },
   "outputs": [],
   "source": [
    "R1teams = np.zeros((4, 16))\n",
    "totWin = np.zeros_like(R1teams)\n",
    "recency = np.zeros_like(R1teams)\n",
    "awayWin = np.zeros_like(R1teams)\n",
    "seed = np.zeros(16)\n",
    "\n",
    "R1teams = np.array([[\"Kansas\", \"Austin Peay\", \"Colorado\", \"Connecticut\", \"Maryland\", \"South Dakota State\", \"California\", \"Hawaii\", \"Arizona\", \"Wichita State\", \"Miami\", \"Buffalo\", \"Iowa\", \"Temple\", \"Villanova\", \"UNC Asheville\"],\n",
    "            [\"Oregon\", \"Holy Cross\", \"Saint Joseph's\", \"Cincinnatti\", \"Baylor\", \"Yale\", \"Duke\", \"UNC Wilmington\", \"Texas\", \"Northern Iowa\", \"Texan A&M\", \"Green Bay\", \"Oregon State\", \"VCU\", \"Oklahoma\", \"Cal State Bakersfield\"],\n",
    "            [\"North Carolina\", \"Florida Gulf Coast\", \"USC\", \"Providence\", \"Indiana\", \"Chattanooga\", \"Kentucky\", \"Stony Brook\", \"Notre Dame\", \"Michigan\", \"West Virginia\", \"Stephen F Austin\", \"Wisconsin\", \"Pittsburgh\", \"Xavier\", \"Weber State\"], \n",
    "            [\"Virginia\", \"Hampton\", \"Texas Tech\", \"Butler\", \"Purdue\", \"Ankansas-Little Rock\", \"Iowa State\", \"Iona\", \"Seton Hall\", \"Gonzaga\", \"Utah\", \"Fresno State\", \"Dayton\", \"Syracuse\", \"Michigan State\", \"Middle Tennessee\"]])\n",
    "\n",
    "totWin = np.array([[30/34, 18/35, 22/33, 24/34, 25/33, 26/33, 23/33, 27/32, 25/33, 24/32, 25/32, 20/34, 21/31, 21/32, 29/34, 22/33],\n",
    "            [28/34, 14/33, 27/34, 22/32, 22/33, 22/28, 23/33, 25/32, 20/32, 22/34, 26/34, 23/35, 19/31, 24/34, 25/32, 24/32],\n",
    "            [28/34, 20/33, 21/33, 23/33, 25/32, 29/34, 26/34, 26/32, 21/32, 22/34, 26/34, 27/32, 20/32, 21/32, 27/32, 26/34], \n",
    "            [26/33, 21/31, 19/31, 21/31, 26/34, 29/33, 21/32, 22/32, 25/33, 26/33, 26/34, 25/34, 25/32, 19/32, 29/34, 24/33]])\n",
    "\n",
    "recency = np.array([[10/10, 8/10, 5/10, 7/10, 5/10, 8/10, 8/10, 8/10, 7/10, 7/10, 7/10, 6/10, 4/10, 7/10, 8/10, 7/10],\n",
    "            [8/10, 5/10, 7/10, 6/10, 5/10, 9/10, 6/10, 8/10, 5/10, 9/10, 8/10, 8/10, 6/10, 7/10, 6/10, 9/10],\n",
    "            [8/10, 7/10, 3/10, 5/10, 7/10, 8/10, 8/10, 8/10, 6/10, 5/10, 7/10, 10/10, 7/10, 4/10, 7/10, 9/10], \n",
    "            [7/10, 8/10, 6/10, 7/10, 7/10, 8/10, 5/10, 9/10, 8/10, 8/10, 9/10, 9/10, 6/10, 5/10, 9/10, 7/10]])\n",
    "\n",
    "awayWin = np.array([[13/17, 11/21, 6/16, 10/17, 9/16, 13/20, 5/15, 10/12, 8/15, 10/17, 10/16, 10/19, 8/16, 10/18, 14/18, 11/19],\n",
    "            [10/16, 6/19, 15/18, 8/15, 8/14, 10/16, 8/15, 13/18, 6/15, 11/20, 9/16, 12/21, 7/16, 9/17, 11/17, 10/17],\n",
    "            [13/18, 4/13, 5/15, 10/16, 8/15, 16/20, 9/17, 11/16, 7/16, 9/17, 13/19, 13/18, 7/14, 6/13, 12/16, 18/20], \n",
    "            [11/18, 12/20, 5/14, 8/15, 9/16, 15/19, 7/17, 11/19, 12/17, 15/18, 10/17, 9/16, 11/15, 6/15, 15/18, 13/19]])\n",
    "\n",
    "seed = np.array([1, 16, 8, 9, 5, 12, 4, 13, 6, 11, 3, 14, 7, 10, 2, 15])\n",
    "\n",
    "seedMatch = ([[18/36, 33/59, 17/28, 39/56, 34/41, 8/12, 4/5, 52/65, 57/62, 4/4, 3/6, 19/19, 4/4, \"na\", \"na\", 124/124],\n",
    "              [26/59, 3/6, 25/45, 3/8, 1/4, 23/29, 55/72, 3/8, 0/1, 26/45, 13/14, 1/1, \"na\", \"na\", 117/124, \"na\"],\n",
    "              [11/28, 17/45, 1/2, 4/7, 2/3, 38/66, 7/12, 1/1, 1/1, 9/13, 26/39, \"na\", \"na\", 104/124, 1/1, \"na\"],\n",
    "              [17/56, 5/8, 3/7, 1/2, 36/66, 2/4, 2/4, 3/8, 2/2, 2/2, \"na\", 21/33, 99/124, \"na\", \"na\", \"na\"],\n",
    "              [7/41, 3/4, 1/3, 30/66, 1/2, 1/1, \"na\", 1/3, 1/2, 1/1, \"na\", 80/124, 11/14, \"na\", \"na\", \"na\"],\n",
    "              [4/12, 6/29, 28/66, 2/4, 0/1, 0.5, 3/6, 0/1, \"na\", 4/6, 81/124, \"na\", \"na\", 12/14, \"na\", \"na\"],\n",
    "              [1/5, 17/72, 5/12, 2/4, \"na\", 3/6, 0.5, 1/2, \"na\", 75/124, 0/3, \"na\", \"na\", 1/1, 2/3, \"na\"],\n",
    "              [13/65, 5/8, 0/1, 5/8, 2/3, 1/1, 1/2, 0.5, 63/124, \"na\", 1/1, 0/1, 1/1, \"na\", \"na\", \"na\"],\n",
    "              [5/62, 1/1, 0/1, 0/2, 1/2, \"na\", \"na\", 61/124, 0.5, \"na\", \"na\", \"na\", 1/1, \"na\", \"na\", \"na\"],\n",
    "              [0/4, 19/45, 4/13, 0/2, 0/1, 2/6, 49/124, \"na\", \"na\", 0.5, 0/2, \"na\", \"na\", 1/1, 0/4, \"na\"],\n",
    "              [3/6, 1/14, 13/39, \"na\", \"na\", 43/124, 3/3, 0/1, \"na\", 2/2, 0.5, \"na\", \"na\", 5/5, \"na\", \"na\"],\n",
    "              [0/19, 0/1, \"na\", 12/33, 44/124, \"na\", \"na\", 1/1, \"na\", \"na\", \"na\", 0.5, 8/11, \"na\", \"na\", \"na\"],\n",
    "              [0/4, \"na\", \"na\", 25/124, 3/14, \"na\", \"na\", 0/1, 0/1, \"na\", \"na\", 3/11, 0.5, \"na\", \"na\", \"na\"],\n",
    "              [\"na\", \"na\", 20/124, \"na\", \"na\", 2/14, 0/1, \"na\", \"na\", 0/1, 0/5, \"na\", \"na\", 0.5, \"na\", \"na\"],\n",
    "              [\"na\", 7/124, 0/1, \"na\", \"na\", \"na\", 1/3, \"na\", \"na\", 0/4, \"na\", \"na\", \"na\", \"na\", 0.5, \"na\"],\n",
    "              [0/124, \"na\", \"na\", \"na\", \"na\", \"na\", \"na\", \"na\", \"na\", \"na\", \"na\", \"na\", \"na\", \"na\", \"na\", 0.5]])"
   ]
  },
  {
   "cell_type": "code",
   "execution_count": null,
   "metadata": {
    "collapsed": true
   },
   "outputs": [],
   "source": []
  },
  {
   "cell_type": "code",
   "execution_count": 204,
   "metadata": {
    "collapsed": false
   },
   "outputs": [],
   "source": [
    "class team:\n",
    "    def __init__(self, teamName):\n",
    "        \"\"\"Constructor for Team Class\"\"\"\n",
    "        \n",
    "        for i in range (4):\n",
    "            for j in range(16):\n",
    "                if (teamName == R1teams[i, j]):\n",
    "                    self.regional, self.position = i, j\n",
    "                    break\n",
    "        \n",
    "        self.totWin = totWin[self.regional][self.position]\n",
    "        self.awayWin = awayWin[self.regional][self.position]\n",
    "        self.recency = recency[self.regional][self.position]\n",
    "        self.seed = seed[self.position]\n",
    "        self.name = R1teams[self.regional][self.position]\n",
    "        \n",
    "        # Define Parameter Weights\n",
    "        weightTotWin = 1/3\n",
    "        weightAwayWin = 1/3\n",
    "        weightRecency = 1/3\n",
    "    \n",
    "        self.score = weightTotWin*self.totWin + weightAwayWin*self.awayWin + weightRecency*self.recency"
   ]
  },
  {
   "cell_type": "code",
   "execution_count": 302,
   "metadata": {
    "collapsed": false
   },
   "outputs": [
    {
     "name": "stdout",
     "output_type": "stream",
     "text": [
      "1.0\n",
      "-3.96166996581\n",
      "3.08884031885\n",
      "1.51920490472\n",
      "2.19050109502\n",
      "1.18559867554\n",
      "4.8037417011\n",
      "1.05029750652\n",
      "1.0\n",
      "4.12360162394\n",
      "3.7202191362\n",
      "1.46586293489\n",
      "3.70373473257\n",
      "1.2245758967\n",
      "4.27553342012\n",
      "1.07068818806\n",
      "1.0\n",
      "-2.5679889097\n",
      "3.02732864351\n",
      "1.38379991362\n",
      "2.10725236748\n",
      "1.2980779562\n",
      "2.18988208327\n",
      "1.07169252317\n",
      "1.0\n",
      "-5.6063505607\n",
      "3.02720747724\n",
      "1.53586590382\n",
      "2.31408264693\n",
      "1.23092136776\n",
      "1.85706967213\n",
      "1.05135398692\n"
     ]
    },
    {
     "data": {
      "text/plain": [
       "array([['Kansas', 'Connecticut', 'Maryland', 'California', 'Arizona',\n",
       "        'Miami', 'Iowa', 'Villanova'],\n",
       "       ['Oregon', \"Saint Joseph's\", 'Baylor', 'Duke', 'Texas', 'Texan A&M',\n",
       "        'Oregon State', 'Oklahoma'],\n",
       "       ['North Carolina', 'Providence', 'Indiana', 'Kentucky',\n",
       "        'Notre Dame', 'West Virginia', 'Wisconsin', 'Xavier'],\n",
       "       ['Virginia', 'Butler', 'Purdue', 'Iowa State', 'Seton Hall', 'Utah',\n",
       "        'Dayton', 'Michigan State']], dtype=object)"
      ]
     },
     "execution_count": 302,
     "metadata": {},
     "output_type": "execute_result"
    }
   ],
   "source": [
    "# create a dictionary that tells a team's stats given their name\n",
    "teamObjects = {}\n",
    "for i in range(4):     # loop over regionals\n",
    "    for j in range(16):    # loop over positions\n",
    "        teamObjects[R1teams[i, j]] = team(R1teams[i, j])\n",
    "        \n",
    "\n",
    "def regionalRound(round):\n",
    "    Rteams = np.empty((4, int(8/round)), dtype=object)\n",
    "    for i in range(4):     # loop over regionals\n",
    "        for j in range(int(8/round)):    # loop over positions\n",
    "            a = teamObjects[R1teams[i, 2*j]]\n",
    "            b = teamObjects[R1teams[i, 2*j+1]]\n",
    "            sdad = seedMatch[a.seed - 1][b.seed - 1]\n",
    "            if (sdad == \"na\"):\n",
    "                Pa = a.score / (a.score - b.score)\n",
    "            else:\n",
    "                Pa = a.score*sdad / (a.score*sdad - b.score*(1 - sdad))\n",
    "            print(Pa)\n",
    "            chance = np.random.random()\n",
    "            if (Pa > chance):\n",
    "                Rteams[i, j] = a.name\n",
    "            else :\n",
    "                Rteams[i, j] = b.name\n",
    "    return Rteams\n",
    "\n",
    "regionalRound(1)"
   ]
  },
  {
   "cell_type": "code",
   "execution_count": null,
   "metadata": {
    "collapsed": true
   },
   "outputs": [],
   "source": []
  },
  {
   "cell_type": "code",
   "execution_count": null,
   "metadata": {
    "collapsed": true
   },
   "outputs": [],
   "source": []
  }
 ],
 "metadata": {
  "kernelspec": {
   "display_name": "Python 3",
   "language": "python",
   "name": "python3"
  },
  "language_info": {
   "codemirror_mode": {
    "name": "ipython",
    "version": 3
   },
   "file_extension": ".py",
   "mimetype": "text/x-python",
   "name": "python",
   "nbconvert_exporter": "python",
   "pygments_lexer": "ipython3",
   "version": "3.5.1"
  }
 },
 "nbformat": 4,
 "nbformat_minor": 0
}
